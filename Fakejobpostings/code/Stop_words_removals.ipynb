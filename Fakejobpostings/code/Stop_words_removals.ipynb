{
 "cells": [
  {
   "cell_type": "code",
   "execution_count": 3,
   "metadata": {},
   "outputs": [],
   "source": [
    "import numpy as np\n",
    "import pandas as pd\n",
    "\n",
    "train = pd.read_csv(\"C:/Users/hp/AntananarivoMadagascarChapter_FakeJobPostings/data/glassdoor_data-analyst_Harold.csv\")\n"
   ]
  },
  {
   "cell_type": "code",
   "execution_count": 4,
   "metadata": {},
   "outputs": [
    {
     "data": {
      "text/html": [
       "<div>\n",
       "<style scoped>\n",
       "    .dataframe tbody tr th:only-of-type {\n",
       "        vertical-align: middle;\n",
       "    }\n",
       "\n",
       "    .dataframe tbody tr th {\n",
       "        vertical-align: top;\n",
       "    }\n",
       "\n",
       "    .dataframe thead th {\n",
       "        text-align: right;\n",
       "    }\n",
       "</style>\n",
       "<table border=\"1\" class=\"dataframe\">\n",
       "  <thead>\n",
       "    <tr style=\"text-align: right;\">\n",
       "      <th></th>\n",
       "      <th>site</th>\n",
       "      <th>role</th>\n",
       "      <th>job_level</th>\n",
       "      <th>company_name</th>\n",
       "      <th>job_description</th>\n",
       "      <th>location</th>\n",
       "      <th>salary</th>\n",
       "    </tr>\n",
       "  </thead>\n",
       "  <tbody>\n",
       "    <tr>\n",
       "      <th>0</th>\n",
       "      <td>Glassdoor</td>\n",
       "      <td>Data Analyst</td>\n",
       "      <td>Unknown</td>\n",
       "      <td>Parade</td>\n",
       "      <td>Parade is the leader in providing capacity man...</td>\n",
       "      <td>Remote</td>\n",
       "      <td>$90K - $120K</td>\n",
       "    </tr>\n",
       "    <tr>\n",
       "      <th>1</th>\n",
       "      <td>Glassdoor</td>\n",
       "      <td>Junior Data Analyst</td>\n",
       "      <td>Junior</td>\n",
       "      <td>Maxima Technologies</td>\n",
       "      <td>```Duties:```\\n- Collect, analyze, and interpr...</td>\n",
       "      <td>Dallas, NC</td>\n",
       "      <td>$80K - $100K</td>\n",
       "    </tr>\n",
       "    <tr>\n",
       "      <th>2</th>\n",
       "      <td>Glassdoor</td>\n",
       "      <td>Data Analyst</td>\n",
       "      <td>Unknown</td>\n",
       "      <td>The Clearing, Inc.</td>\n",
       "      <td>Description:\\nCOMPANY DESCRIPTION\\nThe Clearin...</td>\n",
       "      <td>Washington, DC</td>\n",
       "      <td>$62K - $96K</td>\n",
       "    </tr>\n",
       "    <tr>\n",
       "      <th>3</th>\n",
       "      <td>Glassdoor</td>\n",
       "      <td>Data Analyst</td>\n",
       "      <td>Unknown</td>\n",
       "      <td>Betsy &amp; Adam</td>\n",
       "      <td>Job Title: Data Analyst - Wholesale Apparel\\nR...</td>\n",
       "      <td>United States</td>\n",
       "      <td>$82K - $90K</td>\n",
       "    </tr>\n",
       "    <tr>\n",
       "      <th>4</th>\n",
       "      <td>Glassdoor</td>\n",
       "      <td>Data Analyst</td>\n",
       "      <td>Unknown</td>\n",
       "      <td>ASCAP</td>\n",
       "      <td>About ASCAP\\nThe American Society of Composers...</td>\n",
       "      <td>United States</td>\n",
       "      <td>$90K - $110K</td>\n",
       "    </tr>\n",
       "  </tbody>\n",
       "</table>\n",
       "</div>"
      ],
      "text/plain": [
       "        site                 role job_level         company_name  \\\n",
       "0  Glassdoor         Data Analyst   Unknown               Parade   \n",
       "1  Glassdoor  Junior Data Analyst    Junior  Maxima Technologies   \n",
       "2  Glassdoor         Data Analyst   Unknown   The Clearing, Inc.   \n",
       "3  Glassdoor         Data Analyst   Unknown         Betsy & Adam   \n",
       "4  Glassdoor         Data Analyst   Unknown                ASCAP   \n",
       "\n",
       "                                     job_description        location  \\\n",
       "0  Parade is the leader in providing capacity man...          Remote   \n",
       "1  ```Duties:```\\n- Collect, analyze, and interpr...      Dallas, NC   \n",
       "2  Description:\\nCOMPANY DESCRIPTION\\nThe Clearin...  Washington, DC   \n",
       "3  Job Title: Data Analyst - Wholesale Apparel\\nR...   United States   \n",
       "4  About ASCAP\\nThe American Society of Composers...   United States   \n",
       "\n",
       "         salary  \n",
       "0  $90K - $120K  \n",
       "1  $80K - $100K  \n",
       "2   $62K - $96K  \n",
       "3   $82K - $90K  \n",
       "4  $90K - $110K  "
      ]
     },
     "execution_count": 4,
     "metadata": {},
     "output_type": "execute_result"
    }
   ],
   "source": [
    "train.head()"
   ]
  },
  {
   "cell_type": "code",
   "execution_count": 5,
   "metadata": {},
   "outputs": [
    {
     "data": {
      "text/plain": [
       "0       Parade is the leader in providing capacity man...\n",
       "1       ```Duties:```\\n- Collect, analyze, and interpr...\n",
       "2       Description:\\nCOMPANY DESCRIPTION\\nThe Clearin...\n",
       "3       Job Title: Data Analyst - Wholesale Apparel\\nR...\n",
       "4       About ASCAP\\nThe American Society of Composers...\n",
       "                              ...                        \n",
       "5044    We go where others won’t, taking on some of th...\n",
       "5045    Description\\nThe Senior CDM Analyst will repor...\n",
       "5046    Are you looking for a rewarding career working...\n",
       "5047    Language Enabled Analyst\\nPosition Summary\\nDa...\n",
       "5048    Kalman & Company is seeking a highly motivated...\n",
       "Name: job_description, Length: 5049, dtype: object"
      ]
     },
     "execution_count": 5,
     "metadata": {},
     "output_type": "execute_result"
    }
   ],
   "source": [
    "train[\"job_description\"]"
   ]
  },
  {
   "cell_type": "code",
   "execution_count": 8,
   "metadata": {},
   "outputs": [
    {
     "name": "stdout",
     "output_type": "stream",
     "text": [
      "{'such', 'top', 'thus', 'again', 'are', 'here', 'also', 'upon', 'see', 'almost', 'amongst', 're', 'had', '’d', 'several', \"'s\", 'became', 'she', 'beside', 'sometime', 'whereby', 'i', 'since', 'perhaps', 'wherein', 'because', 'neither', 'twelve', 'quite', 'why', 'ten', 'before', 'move', 'everywhere', 'does', 'twenty', 'give', 'throughout', 'them', 'somehow', 'anything', 'herself', 'if', 'wherever', 'was', 'thereby', \"'re\", 'what', 'yours', 'get', 'always', 'under', 'every', 'seemed', 'their', \"n't\", 'other', 'below', 'how', 'really', 'to', 'noone', 'among', 'any', 'herein', 'whatever', 'an', 'or', 'by', 'is', 'myself', 'within', 'empty', 'seeming', 'being', 'latter', 'call', 'out', 'unless', 'thru', 'anyone', 'at', 'already', 'whether', 'we', 'ca', 'six', 'keep', 'n’t', 'become', 'thence', 'when', 'these', \"'d\", 'anywhere', 'most', '’s', 'done', 'same', 'only', 'well', 'itself', 'whither', 'hence', 'the', '’re', 'whereas', 'often', 'on', 'seem', 'doing', 'but', 'whole', 'everyone', 'further', 'becoming', 'another', 'hundred', 'all', '‘m', 'from', 'yourself', '’ll', 'behind', 'not', 'without', 'then', 'can', 'via', 'towards', 'even', 'themselves', 'your', 'although', 'us', 'less', 'sometimes', 'two', 'fifty', 'someone', \"'m\", 'using', 'mostly', 'enough', 'hereafter', 'were', 'yet', 'seems', 'else', 'its', 'sixty', 'whereupon', 'meanwhile', 'either', 'where', 'used', 'various', 'please', 'onto', 'therein', '’ve', 'four', 'very', 'amount', 'am', 'own', 'down', 'those', 'front', 'across', 'name', 'make', 'you', 'serious', 'whence', 'my', 'three', 'nowhere', 'some', 'who', 'that', 'becomes', 'afterwards', 'both', 'thereafter', 'until', 'above', 'into', 'together', 'back', 'n‘t', 'be', 'once', 'a', 'due', 'through', 'her', 'eleven', 'part', 'former', 'nothing', 'ourselves', 'over', 'him', 'too', 'anyway', 'forty', '’m', 'and', 'will', 'he', 'least', 'take', 'alone', 'could', 'bottom', 'been', 'between', 'against', 'last', '‘re', 'whose', 'next', 'around', 'so', 'there', 'whoever', 'five', 'along', 'during', '‘s', '‘ll', 'cannot', 'about', 'many', 'ours', 'hers', 'beyond', 'much', 'whom', 'up', 'toward', 'they', 'for', 'after', 'which', '‘d', 'in', 'however', 'formerly', 'show', 'thereupon', 'may', 'off', 'regarding', 'would', 'do', 'somewhere', 'few', 'namely', 'whereafter', \"'ll\", 'more', 'side', 'though', 'ever', 'with', 'did', 'no', 'none', 'as', 'something', 'indeed', 'whenever', 'go', 'besides', 'latterly', 'have', 'while', 'per', 'full', 'eight', 'moreover', 'everything', 'mine', 'this', 'put', 'nobody', 'his', 'elsewhere', 'others', 'never', 'now', 'yourselves', 'of', 'should', 'third', 'has', 'made', 'therefore', 'it', 'otherwise', 'first', 'than', 'rather', \"'ve\", 'our', 'hereupon', 'except', 'beforehand', 'might', 'each', 'nevertheless', 'anyhow', 'nor', '‘ve', 'just', 'still', 'nine', 'fifteen', 'say', 'me', 'hereby', 'must', 'himself', 'one'}\n"
     ]
    }
   ],
   "source": [
    "import spacy\n",
    "#loading the english language small model of spacy\n",
    "en = spacy.load('en_core_web_sm')\n",
    "sw_spacy = en.Defaults.stop_words\n",
    "print(sw_spacy)"
   ]
  },
  {
   "cell_type": "code",
   "execution_count": 9,
   "metadata": {},
   "outputs": [
    {
     "name": "stdout",
     "output_type": "stream",
     "text": [
      "326\n"
     ]
    }
   ],
   "source": [
    "print(len(sw_spacy))"
   ]
  },
  {
   "cell_type": "code",
   "execution_count": 10,
   "metadata": {},
   "outputs": [],
   "source": [
    "def remove_stopwords(text):\n",
    "    doc = en(text)\n",
    "    tokens = [token.text for token in doc if token.text.lower() not in sw_spacy]\n",
    "    return ' '.join(tokens)"
   ]
  },
  {
   "cell_type": "code",
   "execution_count": 11,
   "metadata": {},
   "outputs": [],
   "source": [
    "Df_without_stopwords=train.copy()"
   ]
  },
  {
   "cell_type": "code",
   "execution_count": 12,
   "metadata": {},
   "outputs": [],
   "source": [
    "Df_without_stopwords['job_description'] = Df_without_stopwords['job_description'].apply(remove_stopwords)\n"
   ]
  },
  {
   "cell_type": "code",
   "execution_count": 13,
   "metadata": {},
   "outputs": [
    {
     "name": "stdout",
     "output_type": "stream",
     "text": [
      "Original Dataset:\n",
      "0       Parade is the leader in providing capacity man...\n",
      "1       ```Duties:```\\n- Collect, analyze, and interpr...\n",
      "2       Description:\\nCOMPANY DESCRIPTION\\nThe Clearin...\n",
      "3       Job Title: Data Analyst - Wholesale Apparel\\nR...\n",
      "4       About ASCAP\\nThe American Society of Composers...\n",
      "                              ...                        \n",
      "5044    We go where others won’t, taking on some of th...\n",
      "5045    Description\\nThe Senior CDM Analyst will repor...\n",
      "5046    Are you looking for a rewarding career working...\n",
      "5047    Language Enabled Analyst\\nPosition Summary\\nDa...\n",
      "5048    Kalman & Company is seeking a highly motivated...\n",
      "Name: job_description, Length: 5049, dtype: object\n",
      "\n",
      "Modified Dataset:\n",
      "0       Parade leader providing capacity management to...\n",
      "1       ` ` ` Duties : ` ` ` \\n - Collect , analyze , ...\n",
      "2       Description : \\n COMPANY DESCRIPTION \\n Cleari...\n",
      "3       Job Title : Data Analyst - Wholesale Apparel \\...\n",
      "4       ASCAP \\n American Society Composers , Authors ...\n",
      "                              ...                        \n",
      "5044    wo , taking biggest public health challenges p...\n",
      "5045    Description \\n Senior CDM Analyst report CDM S...\n",
      "5046    looking rewarding career working children ? op...\n",
      "5047    Language Enabled Analyst \\n Position Summary \\...\n",
      "5048    Kalman & Company seeking highly motivated , pe...\n",
      "Name: job_description, Length: 5049, dtype: object\n"
     ]
    }
   ],
   "source": [
    "# Display the original and modified datasets\n",
    "print(\"Original Dataset:\")\n",
    "print(train[\"job_description\"])\n",
    "\n",
    "print(\"\\nModified Dataset:\")\n",
    "print(Df_without_stopwords[\"job_description\"])"
   ]
  },
  {
   "cell_type": "code",
   "execution_count": null,
   "metadata": {},
   "outputs": [],
   "source": []
  }
 ],
 "metadata": {
  "kernelspec": {
   "display_name": "Python 3",
   "language": "python",
   "name": "python3"
  },
  "language_info": {
   "codemirror_mode": {
    "name": "ipython",
    "version": 3
   },
   "file_extension": ".py",
   "mimetype": "text/x-python",
   "name": "python",
   "nbconvert_exporter": "python",
   "pygments_lexer": "ipython3",
   "version": "3.10.11"
  },
  "orig_nbformat": 4
 },
 "nbformat": 4,
 "nbformat_minor": 2
}
